{
 "cells": [
  {
   "cell_type": "markdown",
   "metadata": {},
   "source": [
    "## Ejercicios If, else , and, or\n",
    "\n"
   ]
  },
  {
   "cell_type": "markdown",
   "metadata": {},
   "source": [
    "# Ejercicio 1"
   ]
  },
  {
   "cell_type": "markdown",
   "metadata": {},
   "source": [
    "Añadir el código necesario para crear una variable que guarde la velocidad del asteroide.      \n",
    "Escribe una expresión de prueba para calcular si necesita una advertencia.      \n",
    "Agregue las instrucciones que se ejecutarán si la expresión de prueba es true o false."
   ]
  },
  {
   "cell_type": "code",
   "execution_count": 1,
   "metadata": {},
   "outputs": [
    {
     "name": "stdout",
     "output_type": "stream",
     "text": [
      "Alerta, asteroide aproximandose a la tierra!\n"
     ]
    }
   ],
   "source": [
    "asteroide=49\n",
    "if asteroide >= 25:\n",
    "    print(\"Alerta, asteroide aproximandose a la tierra!\")\n",
    "else: \n",
    "    print(\"No hay peligro\")\n"
   ]
  },
  {
   "cell_type": "markdown",
   "metadata": {},
   "source": [
    "# Ejercicio 2"
   ]
  },
  {
   "cell_type": "markdown",
   "metadata": {},
   "source": [
    "Agrega el código para crear nuevas variables para la velocidad y el tamaño del asteroide      \n",
    "Para probar el código, prueba con varias velocidades y tamaños      \n",
    "Escribe varias expresiones de prueba o combinaciones de expresiones de prueba para determinar qué mensaje se debe enviar a Tierra"
   ]
  },
  {
   "cell_type": "code",
   "execution_count": 2,
   "metadata": {},
   "outputs": [
    {
     "name": "stdout",
     "output_type": "stream",
     "text": [
      "Nada interesante que mirar\n"
     ]
    }
   ],
   "source": [
    "asteroide=19\n",
    "if asteroide > 20:\n",
    "    print(\"Mira arriba!, hay una luz en el cielo\")\n",
    "elif asteroide == 20:\n",
    "    print(\"Mira arriba!, hay una luz en el cielo\")\n",
    "else:\n",
    "    print(\"Nada interesante que mirar\")\n"
   ]
  },
  {
   "cell_type": "markdown",
   "metadata": {},
   "source": [
    "Ejercicio 3\n"
   ]
  },
  {
   "cell_type": "code",
   "execution_count": 48,
   "metadata": {},
   "outputs": [
    {
     "name": "stdout",
     "output_type": "stream",
     "text": [
      "Nada interesante que mirar\n"
     ]
    }
   ],
   "source": [
    "velocidad_asteroide=19\n",
    "tamanio_asteroide=10001\n",
    "if velocidad_asteroide > 25 or tamanio_asteroide >=25 and tamanio_asteroide <=1000:\n",
    "    print(\"ADVERTENCIA!, asteroide potencialmente peligroso aproximandose!\")\n",
    "elif velocidad_asteroide >=20 and velocidad_asteroide <= 25:\n",
    "    print(\"Mira arriba!, hay una luz en el cielo\")\n",
    "else:\n",
    "    print(\"Nada interesante que mirar\")"
   ]
  }
 ],
 "metadata": {
  "interpreter": {
   "hash": "2047cdced8e850719dcb991e4265b235990fbe801ff9a7f3f82182b67308ec1b"
  },
  "kernelspec": {
   "display_name": "Python 3.10.2 64-bit (windows store)",
   "language": "python",
   "name": "python3"
  },
  "language_info": {
   "codemirror_mode": {
    "name": "ipython",
    "version": 3
   },
   "file_extension": ".py",
   "mimetype": "text/x-python",
   "name": "python",
   "nbconvert_exporter": "python",
   "pygments_lexer": "ipython3",
   "version": "3.10.2"
  },
  "orig_nbformat": 4
 },
 "nbformat": 4,
 "nbformat_minor": 2
}
