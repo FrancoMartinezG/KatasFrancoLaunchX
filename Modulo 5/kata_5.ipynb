{
 "cells": [
  {
   "cell_type": "markdown",
   "metadata": {},
   "source": [
    "# Ejercicio 1"
   ]
  },
  {
   "cell_type": "markdown",
   "metadata": {},
   "source": [
    "Crear variables para almacenar las dos distancias\n",
    "¡Asegúrate de quitar las comas!"
   ]
  },
  {
   "cell_type": "code",
   "execution_count": null,
   "metadata": {},
   "outputs": [],
   "source": [
    "tierra= 149597870 #km\n",
    "jupiter = 778547200 #km"
   ]
  },
  {
   "cell_type": "markdown",
   "metadata": {},
   "source": [
    "Calcular la distancia entre planetas"
   ]
  },
  {
   "cell_type": "code",
   "execution_count": null,
   "metadata": {},
   "outputs": [],
   "source": [
    "distancia = tierra - jupiter\n",
    "print(abs(distancia), 'kilometros')\n",
    "distanciaMi= distancia*0.621\n",
    "print(distanciaMi, 'millas')"
   ]
  },
  {
   "cell_type": "markdown",
   "metadata": {},
   "source": [
    "# Ejercicio 2"
   ]
  },
  {
   "cell_type": "markdown",
   "metadata": {},
   "source": [
    "Almacenar las entradas del usuario                       \n",
    "Convierte las cadenas de ambos planetas a números enteros"
   ]
  },
  {
   "cell_type": "code",
   "execution_count": null,
   "metadata": {},
   "outputs": [],
   "source": [
    "planetaUno= input('distancia al sol del primer planeta: ')\n",
    "planetaUno = int (planetaUno)\n",
    "planetaDos= input('distancia al sol del segundo planeta: ')\n",
    "planetaDos = int (planetaDos)"
   ]
  },
  {
   "cell_type": "markdown",
   "metadata": {},
   "source": [
    "Realizar el cálculo y determinar el valor absoluto                          \n",
    "Convertir de KM a Millas\n",
    "\n"
   ]
  },
  {
   "cell_type": "code",
   "execution_count": null,
   "metadata": {},
   "outputs": [],
   "source": [
    "distancia1= planetaUno - planetaDos\n",
    "print(abs(distancia),'km')\n",
    "\n",
    "distancia1Mi = distancia1 * .621\n",
    "print(abs(distancia1Mi),'millas')\n"
   ]
  }
 ],
 "metadata": {
  "interpreter": {
   "hash": "2047cdced8e850719dcb991e4265b235990fbe801ff9a7f3f82182b67308ec1b"
  },
  "kernelspec": {
   "display_name": "Python 3.10.2 64-bit (windows store)",
   "language": "python",
   "name": "python3"
  },
  "language_info": {
   "codemirror_mode": {
    "name": "ipython",
    "version": 3
   },
   "file_extension": ".py",
   "mimetype": "text/x-python",
   "name": "python",
   "nbconvert_exporter": "python",
   "pygments_lexer": "ipython3",
   "version": "3.10.2"
  },
  "orig_nbformat": 4
 },
 "nbformat": 4,
 "nbformat_minor": 2
}
